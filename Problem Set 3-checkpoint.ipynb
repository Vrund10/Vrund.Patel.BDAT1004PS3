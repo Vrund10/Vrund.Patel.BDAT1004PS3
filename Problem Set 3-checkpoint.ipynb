{
 "cells": [
  {
   "cell_type": "code",
   "execution_count": 1,
   "metadata": {},
   "outputs": [],
   "source": [
    "#Question.1)\n",
    "\n",
    "#Step1)\n",
    "import pandas as pd"
   ]
  },
  {
   "cell_type": "code",
   "execution_count": 2,
   "metadata": {},
   "outputs": [
    {
     "name": "stdout",
     "output_type": "stream",
     "text": [
      "     user_id  age gender     occupation zip_code\n",
      "0          1   24      M     technician    85711\n",
      "1          2   53      F          other    94043\n",
      "2          3   23      M         writer    32067\n",
      "3          4   24      M     technician    43537\n",
      "4          5   33      F          other    15213\n",
      "..       ...  ...    ...            ...      ...\n",
      "938      939   26      F        student    33319\n",
      "939      940   32      M  administrator    02215\n",
      "940      941   20      M        student    97229\n",
      "941      942   48      F      librarian    78209\n",
      "942      943   22      M        student    77841\n",
      "\n",
      "[943 rows x 5 columns]\n"
     ]
    }
   ],
   "source": [
    "#Step.2&3)\n",
    "\n",
    "url = \"https://raw.githubusercontent.com/justmarkham/DAT8/master/data/u.user\"\n",
    "users = pd.read_csv(url, sep='|') \n",
    "print(users)"
   ]
  },
  {
   "cell_type": "code",
   "execution_count": 3,
   "metadata": {},
   "outputs": [
    {
     "name": "stdout",
     "output_type": "stream",
     "text": [
      "occupation\n",
      "administrator    38.746835\n",
      "artist           31.392857\n",
      "doctor           43.571429\n",
      "educator         42.010526\n",
      "engineer         36.388060\n",
      "entertainment    29.222222\n",
      "executive        38.718750\n",
      "healthcare       41.562500\n",
      "homemaker        32.571429\n",
      "lawyer           36.750000\n",
      "librarian        40.000000\n",
      "marketing        37.615385\n",
      "none             26.555556\n",
      "other            34.523810\n",
      "programmer       33.121212\n",
      "retired          63.071429\n",
      "salesman         35.666667\n",
      "scientist        35.548387\n",
      "student          22.081633\n",
      "technician       33.148148\n",
      "writer           36.311111\n",
      "Name: age, dtype: float64\n"
     ]
    }
   ],
   "source": [
    "#Step.4)\n",
    "\n",
    "mean_age_per_occupation = users.groupby('occupation')['age'].mean()\n",
    "print(mean_age_per_occupation)"
   ]
  },
  {
   "cell_type": "code",
   "execution_count": 4,
   "metadata": {},
   "outputs": [
    {
     "name": "stdout",
     "output_type": "stream",
     "text": [
      "occupation\n",
      "doctor           1.000000\n",
      "engineer         0.970149\n",
      "technician       0.962963\n",
      "retired          0.928571\n",
      "programmer       0.909091\n",
      "executive        0.906250\n",
      "scientist        0.903226\n",
      "entertainment    0.888889\n",
      "lawyer           0.833333\n",
      "salesman         0.750000\n",
      "educator         0.726316\n",
      "student          0.693878\n",
      "other            0.657143\n",
      "marketing        0.615385\n",
      "writer           0.577778\n",
      "none             0.555556\n",
      "administrator    0.544304\n",
      "artist           0.535714\n",
      "librarian        0.431373\n",
      "healthcare       0.312500\n",
      "homemaker        0.142857\n",
      "Name: gender, dtype: float64\n"
     ]
    }
   ],
   "source": [
    "#Step.5)\n",
    "male_ratio_per_occupation = users[users['gender'] == 'M'].groupby('occupation')['gender'].count() / users.groupby('occupation')['gender'].count()\n",
    "male_ratio_sorted = male_ratio_per_occupation.sort_values(ascending=False)\n",
    "print(male_ratio_sorted)"
   ]
  },
  {
   "cell_type": "code",
   "execution_count": 5,
   "metadata": {},
   "outputs": [
    {
     "name": "stdout",
     "output_type": "stream",
     "text": [
      "               min  max\n",
      "occupation             \n",
      "administrator   21   70\n",
      "artist          19   48\n",
      "doctor          28   64\n",
      "educator        23   63\n",
      "engineer        22   70\n",
      "entertainment   15   50\n",
      "executive       22   69\n",
      "healthcare      22   62\n",
      "homemaker       20   50\n",
      "lawyer          21   53\n",
      "librarian       23   69\n",
      "marketing       24   55\n",
      "none            11   55\n",
      "other           13   64\n",
      "programmer      20   63\n",
      "retired         51   73\n",
      "salesman        18   66\n",
      "scientist       23   55\n",
      "student          7   42\n",
      "technician      21   55\n",
      "writer          18   60\n"
     ]
    }
   ],
   "source": [
    "#Step.6)\n",
    "age_range_per_occupation = users.groupby('occupation')['age'].agg(['min', 'max'])\n",
    "print(age_range_per_occupation)"
   ]
  },
  {
   "cell_type": "code",
   "execution_count": 6,
   "metadata": {},
   "outputs": [
    {
     "name": "stdout",
     "output_type": "stream",
     "text": [
      "gender                 F          M\n",
      "occupation                         \n",
      "administrator  40.638889  37.162791\n",
      "artist         30.307692  32.333333\n",
      "doctor               NaN  43.571429\n",
      "educator       39.115385  43.101449\n",
      "engineer       29.500000  36.600000\n",
      "entertainment  31.000000  29.000000\n",
      "executive      44.000000  38.172414\n",
      "healthcare     39.818182  45.400000\n",
      "homemaker      34.166667  23.000000\n",
      "lawyer         39.500000  36.200000\n",
      "librarian      40.000000  40.000000\n",
      "marketing      37.200000  37.875000\n",
      "none           36.500000  18.600000\n",
      "other          35.472222  34.028986\n",
      "programmer     32.166667  33.216667\n",
      "retired        70.000000  62.538462\n",
      "salesman       27.000000  38.555556\n",
      "scientist      28.333333  36.321429\n",
      "student        20.750000  22.669118\n",
      "technician     38.000000  32.961538\n",
      "writer         37.631579  35.346154\n"
     ]
    }
   ],
   "source": [
    "#Step.7)\n",
    "mean_age_by_occupation_gender = users.pivot_table(values='age', index='occupation', columns='gender', aggfunc='mean')\n",
    "print(mean_age_by_occupation_gender)"
   ]
  },
  {
   "cell_type": "code",
   "execution_count": 7,
   "metadata": {},
   "outputs": [
    {
     "name": "stdout",
     "output_type": "stream",
     "text": [
      "gender             F       M\n",
      "occupation                  \n",
      "administrator  45.57   54.43\n",
      "artist         46.43   53.57\n",
      "doctor          0.00  100.00\n",
      "educator       27.37   72.63\n",
      "engineer        2.99   97.01\n",
      "entertainment  11.11   88.89\n",
      "executive       9.38   90.62\n",
      "healthcare     68.75   31.25\n",
      "homemaker      85.71   14.29\n",
      "lawyer         16.67   83.33\n",
      "librarian      56.86   43.14\n",
      "marketing      38.46   61.54\n",
      "none           44.44   55.56\n",
      "other          34.29   65.71\n",
      "programmer      9.09   90.91\n",
      "retired         7.14   92.86\n",
      "salesman       25.00   75.00\n",
      "scientist       9.68   90.32\n",
      "student        30.61   69.39\n",
      "technician      3.70   96.30\n",
      "writer         42.22   57.78\n"
     ]
    }
   ],
   "source": [
    "#Step.8)\n",
    "gender_counts = users.groupby(['occupation', 'gender']).size().unstack(fill_value=0)\n",
    "gender_percentage = (gender_counts.div(gender_counts.sum(axis=1), axis=0) * 100).round(2)\n",
    "print(gender_percentage)"
   ]
  },
  {
   "cell_type": "code",
   "execution_count": 8,
   "metadata": {},
   "outputs": [],
   "source": [
    "#Question.2)\n",
    "\n",
    "#Step.1)\n",
    "\n",
    "import pandas as pd"
   ]
  },
  {
   "cell_type": "code",
   "execution_count": 9,
   "metadata": {},
   "outputs": [
    {
     "name": "stdout",
     "output_type": "stream",
     "text": [
      "                   Team  Goals  Shots on target  Shots off target  \\\n",
      "0               Croatia      4               13                12   \n",
      "1        Czech Republic      4               13                18   \n",
      "2               Denmark      4               10                10   \n",
      "3               England      5               11                18   \n",
      "4                France      3               22                24   \n",
      "5               Germany     10               32                32   \n",
      "6                Greece      5                8                18   \n",
      "7                 Italy      6               34                45   \n",
      "8           Netherlands      2               12                36   \n",
      "9                Poland      2               15                23   \n",
      "10             Portugal      6               22                42   \n",
      "11  Republic of Ireland      1                7                12   \n",
      "12               Russia      5                9                31   \n",
      "13                Spain     12               42                33   \n",
      "14               Sweden      5               17                19   \n",
      "15              Ukraine      2                7                26   \n",
      "\n",
      "   Shooting Accuracy % Goals-to-shots  Total shots (inc. Blocked)  \\\n",
      "0              51.9%            16.0%                          32   \n",
      "1              41.9%            12.9%                          39   \n",
      "2              50.0%            20.0%                          27   \n",
      "3              50.0%            17.2%                          40   \n",
      "4              37.9%             6.5%                          65   \n",
      "5              47.8%            15.6%                          80   \n",
      "6              30.7%            19.2%                          32   \n",
      "7              43.0%             7.5%                         110   \n",
      "8              25.0%             4.1%                          60   \n",
      "9              39.4%             5.2%                          48   \n",
      "10             34.3%             9.3%                          82   \n",
      "11             36.8%             5.2%                          28   \n",
      "12             22.5%            12.5%                          59   \n",
      "13             55.9%            16.0%                         100   \n",
      "14             47.2%            13.8%                          39   \n",
      "15             21.2%             6.0%                          38   \n",
      "\n",
      "    Hit Woodwork  Penalty goals  Penalties not scored  ...  Saves made  \\\n",
      "0              0              0                     0  ...          13   \n",
      "1              0              0                     0  ...           9   \n",
      "2              1              0                     0  ...          10   \n",
      "3              0              0                     0  ...          22   \n",
      "4              1              0                     0  ...           6   \n",
      "5              2              1                     0  ...          10   \n",
      "6              1              1                     1  ...          13   \n",
      "7              2              0                     0  ...          20   \n",
      "8              2              0                     0  ...          12   \n",
      "9              0              0                     0  ...           6   \n",
      "10             6              0                     0  ...          10   \n",
      "11             0              0                     0  ...          17   \n",
      "12             2              0                     0  ...          10   \n",
      "13             0              1                     0  ...          15   \n",
      "14             3              0                     0  ...           8   \n",
      "15             0              0                     0  ...          13   \n",
      "\n",
      "    Saves-to-shots ratio  Fouls Won Fouls Conceded  Offsides  Yellow Cards  \\\n",
      "0                  81.3%         41             62         2             9   \n",
      "1                  60.1%         53             73         8             7   \n",
      "2                  66.7%         25             38         8             4   \n",
      "3                  88.1%         43             45         6             5   \n",
      "4                  54.6%         36             51         5             6   \n",
      "5                  62.6%         63             49        12             4   \n",
      "6                  65.1%         67             48        12             9   \n",
      "7                  74.1%        101             89        16            16   \n",
      "8                  70.6%         35             30         3             5   \n",
      "9                  66.7%         48             56         3             7   \n",
      "10                 71.5%         73             90        10            12   \n",
      "11                 65.4%         43             51        11             6   \n",
      "12                 77.0%         34             43         4             6   \n",
      "13                 93.8%        102             83        19            11   \n",
      "14                 61.6%         35             51         7             7   \n",
      "15                 76.5%         48             31         4             5   \n",
      "\n",
      "    Red Cards  Subs on  Subs off  Players Used  \n",
      "0           0        9         9            16  \n",
      "1           0       11        11            19  \n",
      "2           0        7         7            15  \n",
      "3           0       11        11            16  \n",
      "4           0       11        11            19  \n",
      "5           0       15        15            17  \n",
      "6           1       12        12            20  \n",
      "7           0       18        18            19  \n",
      "8           0        7         7            15  \n",
      "9           1        7         7            17  \n",
      "10          0       14        14            16  \n",
      "11          1       10        10            17  \n",
      "12          0        7         7            16  \n",
      "13          0       17        17            18  \n",
      "14          0        9         9            18  \n",
      "15          0        9         9            18  \n",
      "\n",
      "[16 rows x 35 columns]\n"
     ]
    }
   ],
   "source": [
    "#Step.2&3)\n",
    "\n",
    "url = \"https://raw.githubusercontent.com/guipsamora/pandas_exercises/master/02_Filtering_%26_Sorting/Euro12/Euro_2012_stats_TEAM.csv\"\n",
    "euro12 = pd.read_csv(url)\n",
    "print(euro12)"
   ]
  },
  {
   "cell_type": "code",
   "execution_count": 10,
   "metadata": {},
   "outputs": [
    {
     "name": "stdout",
     "output_type": "stream",
     "text": [
      "0      4\n",
      "1      4\n",
      "2      4\n",
      "3      5\n",
      "4      3\n",
      "5     10\n",
      "6      5\n",
      "7      6\n",
      "8      2\n",
      "9      2\n",
      "10     6\n",
      "11     1\n",
      "12     5\n",
      "13    12\n",
      "14     5\n",
      "15     2\n",
      "Name: Goals, dtype: int64\n"
     ]
    }
   ],
   "source": [
    "#Step.4)\n",
    "goals = euro12['Goals']\n",
    "print(goals)"
   ]
  },
  {
   "cell_type": "code",
   "execution_count": 11,
   "metadata": {},
   "outputs": [
    {
     "name": "stdout",
     "output_type": "stream",
     "text": [
      "Number of teams that participated: 16\n"
     ]
    }
   ],
   "source": [
    "#Step.5)\n",
    "num_teams = euro12['Team'].nunique()\n",
    "print(f\"Number of teams that participated: {num_teams}\")\n"
   ]
  },
  {
   "cell_type": "code",
   "execution_count": 12,
   "metadata": {},
   "outputs": [
    {
     "name": "stdout",
     "output_type": "stream",
     "text": [
      "Number of columns in the dataset: 35\n"
     ]
    }
   ],
   "source": [
    "#Step.6)\n",
    "num_columns = euro12.shape[1]\n",
    "print(f\"Number of columns in the dataset: {num_columns}\")"
   ]
  },
  {
   "cell_type": "code",
   "execution_count": 13,
   "metadata": {},
   "outputs": [
    {
     "name": "stdout",
     "output_type": "stream",
     "text": [
      "                   Team  Yellow Cards  Red Cards\n",
      "0               Croatia             9          0\n",
      "1        Czech Republic             7          0\n",
      "2               Denmark             4          0\n",
      "3               England             5          0\n",
      "4                France             6          0\n",
      "5               Germany             4          0\n",
      "6                Greece             9          1\n",
      "7                 Italy            16          0\n",
      "8           Netherlands             5          0\n",
      "9                Poland             7          1\n",
      "10             Portugal            12          0\n",
      "11  Republic of Ireland             6          1\n",
      "12               Russia             6          0\n",
      "13                Spain            11          0\n",
      "14               Sweden             7          0\n",
      "15              Ukraine             5          0\n"
     ]
    }
   ],
   "source": [
    "#Step.7)\n",
    "discipline = euro12[['Team', 'Yellow Cards', 'Red Cards']]\n",
    "print(discipline)"
   ]
  },
  {
   "cell_type": "code",
   "execution_count": 14,
   "metadata": {},
   "outputs": [
    {
     "name": "stdout",
     "output_type": "stream",
     "text": [
      "                   Team  Yellow Cards  Red Cards\n",
      "11  Republic of Ireland             6          1\n",
      "9                Poland             7          1\n",
      "6                Greece             9          1\n",
      "2               Denmark             4          0\n",
      "5               Germany             4          0\n",
      "3               England             5          0\n",
      "8           Netherlands             5          0\n",
      "15              Ukraine             5          0\n",
      "4                France             6          0\n",
      "12               Russia             6          0\n",
      "1        Czech Republic             7          0\n",
      "14               Sweden             7          0\n",
      "0               Croatia             9          0\n",
      "13                Spain            11          0\n",
      "10             Portugal            12          0\n",
      "7                 Italy            16          0\n"
     ]
    }
   ],
   "source": [
    "#Step.8)\n",
    "discipline_sorted = discipline.sort_values(by=['Red Cards', 'Yellow Cards'], ascending=[False, True])\n",
    "print(discipline_sorted)"
   ]
  },
  {
   "cell_type": "code",
   "execution_count": 15,
   "metadata": {},
   "outputs": [
    {
     "name": "stdout",
     "output_type": "stream",
     "text": [
      "Average number of Yellow Cards per team: 7.44\n"
     ]
    }
   ],
   "source": [
    "#Step.9)\n",
    "mean_yellow_cards = euro12['Yellow Cards'].mean()\n",
    "print(f\"Average number of Yellow Cards per team: {mean_yellow_cards:.2f}\")"
   ]
  },
  {
   "cell_type": "code",
   "execution_count": 16,
   "metadata": {},
   "outputs": [
    {
     "name": "stdout",
     "output_type": "stream",
     "text": [
      "       Team  Goals\n",
      "5   Germany     10\n",
      "13    Spain     12\n"
     ]
    }
   ],
   "source": [
    "#Step.10)\n",
    "high_scoring_teams = euro12[euro12['Goals'] > 6]\n",
    "print(high_scoring_teams[['Team', 'Goals']])"
   ]
  },
  {
   "cell_type": "code",
   "execution_count": 17,
   "metadata": {},
   "outputs": [
    {
     "name": "stdout",
     "output_type": "stream",
     "text": [
      "5    Germany\n",
      "6     Greece\n",
      "Name: Team, dtype: object\n"
     ]
    }
   ],
   "source": [
    "#Step.11)\n",
    "teams_starting_with_g = euro12[euro12['Team'].str.startswith('G')]\n",
    "print(teams_starting_with_g['Team'])"
   ]
  },
  {
   "cell_type": "code",
   "execution_count": 18,
   "metadata": {},
   "outputs": [
    {
     "name": "stdout",
     "output_type": "stream",
     "text": [
      "                   Team  Goals  Shots on target  Shots off target  \\\n",
      "0               Croatia      4               13                12   \n",
      "1        Czech Republic      4               13                18   \n",
      "2               Denmark      4               10                10   \n",
      "3               England      5               11                18   \n",
      "4                France      3               22                24   \n",
      "5               Germany     10               32                32   \n",
      "6                Greece      5                8                18   \n",
      "7                 Italy      6               34                45   \n",
      "8           Netherlands      2               12                36   \n",
      "9                Poland      2               15                23   \n",
      "10             Portugal      6               22                42   \n",
      "11  Republic of Ireland      1                7                12   \n",
      "12               Russia      5                9                31   \n",
      "13                Spain     12               42                33   \n",
      "14               Sweden      5               17                19   \n",
      "15              Ukraine      2                7                26   \n",
      "\n",
      "   Shooting Accuracy % Goals-to-shots  Total shots (inc. Blocked)  \n",
      "0              51.9%            16.0%                          32  \n",
      "1              41.9%            12.9%                          39  \n",
      "2              50.0%            20.0%                          27  \n",
      "3              50.0%            17.2%                          40  \n",
      "4              37.9%             6.5%                          65  \n",
      "5              47.8%            15.6%                          80  \n",
      "6              30.7%            19.2%                          32  \n",
      "7              43.0%             7.5%                         110  \n",
      "8              25.0%             4.1%                          60  \n",
      "9              39.4%             5.2%                          48  \n",
      "10             34.3%             9.3%                          82  \n",
      "11             36.8%             5.2%                          28  \n",
      "12             22.5%            12.5%                          59  \n",
      "13             55.9%            16.0%                         100  \n",
      "14             47.2%            13.8%                          39  \n",
      "15             21.2%             6.0%                          38  \n"
     ]
    }
   ],
   "source": [
    "#Step.12)\n",
    "first_seven_columns = euro12.iloc[:, :7]\n",
    "print(first_seven_columns)"
   ]
  },
  {
   "cell_type": "code",
   "execution_count": 19,
   "metadata": {},
   "outputs": [
    {
     "name": "stdout",
     "output_type": "stream",
     "text": [
      "                   Team  Goals  Shots on target  Shots off target  \\\n",
      "0               Croatia      4               13                12   \n",
      "1        Czech Republic      4               13                18   \n",
      "2               Denmark      4               10                10   \n",
      "3               England      5               11                18   \n",
      "4                France      3               22                24   \n",
      "5               Germany     10               32                32   \n",
      "6                Greece      5                8                18   \n",
      "7                 Italy      6               34                45   \n",
      "8           Netherlands      2               12                36   \n",
      "9                Poland      2               15                23   \n",
      "10             Portugal      6               22                42   \n",
      "11  Republic of Ireland      1                7                12   \n",
      "12               Russia      5                9                31   \n",
      "13                Spain     12               42                33   \n",
      "14               Sweden      5               17                19   \n",
      "15              Ukraine      2                7                26   \n",
      "\n",
      "   Shooting Accuracy % Goals-to-shots  Total shots (inc. Blocked)  \\\n",
      "0              51.9%            16.0%                          32   \n",
      "1              41.9%            12.9%                          39   \n",
      "2              50.0%            20.0%                          27   \n",
      "3              50.0%            17.2%                          40   \n",
      "4              37.9%             6.5%                          65   \n",
      "5              47.8%            15.6%                          80   \n",
      "6              30.7%            19.2%                          32   \n",
      "7              43.0%             7.5%                         110   \n",
      "8              25.0%             4.1%                          60   \n",
      "9              39.4%             5.2%                          48   \n",
      "10             34.3%             9.3%                          82   \n",
      "11             36.8%             5.2%                          28   \n",
      "12             22.5%            12.5%                          59   \n",
      "13             55.9%            16.0%                         100   \n",
      "14             47.2%            13.8%                          39   \n",
      "15             21.2%             6.0%                          38   \n",
      "\n",
      "    Hit Woodwork  Penalty goals  Penalties not scored  ...  Clean Sheets  \\\n",
      "0              0              0                     0  ...             0   \n",
      "1              0              0                     0  ...             1   \n",
      "2              1              0                     0  ...             1   \n",
      "3              0              0                     0  ...             2   \n",
      "4              1              0                     0  ...             1   \n",
      "5              2              1                     0  ...             1   \n",
      "6              1              1                     1  ...             1   \n",
      "7              2              0                     0  ...             2   \n",
      "8              2              0                     0  ...             0   \n",
      "9              0              0                     0  ...             0   \n",
      "10             6              0                     0  ...             2   \n",
      "11             0              0                     0  ...             0   \n",
      "12             2              0                     0  ...             0   \n",
      "13             0              1                     0  ...             5   \n",
      "14             3              0                     0  ...             1   \n",
      "15             0              0                     0  ...             0   \n",
      "\n",
      "    Blocks  Goals conceded Saves made  Saves-to-shots ratio  Fouls Won  \\\n",
      "0       10               3         13                 81.3%         41   \n",
      "1       10               6          9                 60.1%         53   \n",
      "2       10               5         10                 66.7%         25   \n",
      "3       29               3         22                 88.1%         43   \n",
      "4        7               5          6                 54.6%         36   \n",
      "5       11               6         10                 62.6%         63   \n",
      "6       23               7         13                 65.1%         67   \n",
      "7       18               7         20                 74.1%        101   \n",
      "8        9               5         12                 70.6%         35   \n",
      "9        8               3          6                 66.7%         48   \n",
      "10      11               4         10                 71.5%         73   \n",
      "11      23               9         17                 65.4%         43   \n",
      "12       8               3         10                 77.0%         34   \n",
      "13       8               1         15                 93.8%        102   \n",
      "14      12               5          8                 61.6%         35   \n",
      "15       4               4         13                 76.5%         48   \n",
      "\n",
      "    Fouls Conceded  Offsides  Yellow Cards  Red Cards  \n",
      "0               62         2             9          0  \n",
      "1               73         8             7          0  \n",
      "2               38         8             4          0  \n",
      "3               45         6             5          0  \n",
      "4               51         5             6          0  \n",
      "5               49        12             4          0  \n",
      "6               48        12             9          1  \n",
      "7               89        16            16          0  \n",
      "8               30         3             5          0  \n",
      "9               56         3             7          1  \n",
      "10              90        10            12          0  \n",
      "11              51        11             6          1  \n",
      "12              43         4             6          0  \n",
      "13              83        19            11          0  \n",
      "14              51         7             7          0  \n",
      "15              31         4             5          0  \n",
      "\n",
      "[16 rows x 32 columns]\n"
     ]
    }
   ],
   "source": [
    "#Step.13)\n",
    "all_except_last_three = euro12.iloc[:, :-3]\n",
    "print(all_except_last_three)"
   ]
  },
  {
   "cell_type": "code",
   "execution_count": 20,
   "metadata": {},
   "outputs": [
    {
     "name": "stdout",
     "output_type": "stream",
     "text": [
      "       Team Shooting Accuracy\n",
      "3   England             50.0%\n",
      "7     Italy             43.0%\n",
      "12   Russia             22.5%\n"
     ]
    }
   ],
   "source": [
    "#Step.14)\n",
    "teams = ['England', 'Italy', 'Russia']\n",
    "shooting_accuracy = euro12.loc[euro12['Team'].isin(teams), ['Team', 'Shooting Accuracy']]\n",
    "print(shooting_accuracy)"
   ]
  },
  {
   "cell_type": "code",
   "execution_count": 21,
   "metadata": {},
   "outputs": [],
   "source": [
    "#Question.3)\n",
    "\n",
    "#Step.1)\n",
    "\n",
    "import pandas as pd\n",
    "import numpy as np"
   ]
  },
  {
   "cell_type": "code",
   "execution_count": 22,
   "metadata": {},
   "outputs": [],
   "source": [
    "#Step.2)\n",
    "\n",
    "np.random.seed(42)\n",
    "series1 = pd.Series(np.random.randint(1, 5, size=100))\n",
    "series2 = pd.Series(np.random.randint(1, 4, size=100))\n",
    "series3 = pd.Series(np.random.randint(10000, 30001, size=100))"
   ]
  },
  {
   "cell_type": "code",
   "execution_count": 23,
   "metadata": {},
   "outputs": [],
   "source": [
    "#Step.3)\n",
    "\n",
    "df = pd.concat([series1, series2, series3], axis=1)"
   ]
  },
  {
   "cell_type": "code",
   "execution_count": 24,
   "metadata": {},
   "outputs": [],
   "source": [
    "#Step.4)\n",
    "\n",
    "df.columns = ['bedrs', 'bathrs', 'price_sqr_meter']"
   ]
  },
  {
   "cell_type": "code",
   "execution_count": 25,
   "metadata": {},
   "outputs": [
    {
     "name": "stdout",
     "output_type": "stream",
     "text": [
      "   bigcolumn\n",
      "0          3\n",
      "1          4\n",
      "2          1\n",
      "3          3\n",
      "4          3\n"
     ]
    }
   ],
   "source": [
    "#Step.5)\n",
    "\n",
    "\n",
    "bigcolumn = pd.concat([series1, series2, series3], ignore_index=True).to_frame(name='bigcolumn')\n",
    "print(bigcolumn.head())\n"
   ]
  },
  {
   "cell_type": "code",
   "execution_count": 26,
   "metadata": {},
   "outputs": [
    {
     "name": "stdout",
     "output_type": "stream",
     "text": [
      "Does it stop at index 99?\n",
      "False\n"
     ]
    }
   ],
   "source": [
    "#Step.6)\n",
    "print(\"Does it stop at index 99?\")\n",
    "print(bigcolumn.index.max() == 99)"
   ]
  },
  {
   "cell_type": "code",
   "execution_count": 27,
   "metadata": {},
   "outputs": [
    {
     "name": "stdout",
     "output_type": "stream",
     "text": [
      "     bigcolumn\n",
      "0            3\n",
      "1            4\n",
      "2            1\n",
      "3            3\n",
      "4            3\n",
      "..         ...\n",
      "295      11154\n",
      "296      14499\n",
      "297      16295\n",
      "298      22183\n",
      "299      22874\n",
      "\n",
      "[300 rows x 1 columns]\n"
     ]
    }
   ],
   "source": [
    "#Step.7\n",
    "\n",
    "bigcolumn = bigcolumn.reindex(range(300))\n",
    "print(bigcolumn)"
   ]
  },
  {
   "cell_type": "code",
   "execution_count": 28,
   "metadata": {},
   "outputs": [],
   "source": [
    "#Ans.4)\n",
    "\n",
    "#Step.1)\n",
    "\n",
    "import pandas as pd\n",
    "import numpy as np"
   ]
  },
  {
   "cell_type": "code",
   "execution_count": 29,
   "metadata": {},
   "outputs": [
    {
     "name": "stdout",
     "output_type": "stream",
     "text": [
      "      0   1   2      3      4      5      6      7      8      9      10  \\\n",
      "0     Yr  Mo  Dy    RPT    VAL    ROS    KIL    SHA    BIR    DUB    CLA   \n",
      "1     61   1   1  15.04  14.96  13.17   9.29    NaN   9.87  13.67  10.25   \n",
      "2     61   1   2  14.71    NaN  10.83   6.50  12.62   7.67  11.50  10.04   \n",
      "3     61   1   3  18.50  16.88  12.33  10.13  11.17   6.17  11.25    NaN   \n",
      "4     61   1   4  10.58   6.63  11.75   4.58   4.54   2.88   8.63   1.79   \n",
      "...   ..  ..  ..    ...    ...    ...    ...    ...    ...    ...    ...   \n",
      "6570  78  12  27  17.58  16.96  17.62   8.08  13.21  11.67  14.46  15.59   \n",
      "6571  78  12  28  13.21   5.46  13.46   5.00   8.12   9.42  14.33  16.25   \n",
      "6572  78  12  29  14.00  10.29  14.42   8.71   9.71  10.54  19.17  12.46   \n",
      "6573  78  12  30  18.50  14.04  21.29   9.13  12.75   9.71  18.08  12.87   \n",
      "6574  78  12  31  20.33  17.41  27.29   9.59  12.08  10.13  19.25  11.63   \n",
      "\n",
      "         11     12     13     14  \n",
      "0       MUL    CLO    BEL    MAL  \n",
      "1     10.83  12.58  18.50  15.04  \n",
      "2      9.79   9.67  17.54  13.83  \n",
      "3      8.50   7.67  12.75  12.71  \n",
      "4      5.83   5.88   5.46  10.88  \n",
      "...     ...    ...    ...    ...  \n",
      "6570  14.04  14.00  17.21  40.08  \n",
      "6571  15.25  18.05  21.79  41.46  \n",
      "6572  14.50  16.42  18.88  29.58  \n",
      "6573  12.46  12.12  14.67  28.79  \n",
      "6574  11.58  11.38  12.08  22.08  \n",
      "\n",
      "[6575 rows x 15 columns]\n"
     ]
    }
   ],
   "source": [
    "#Step.2)\n",
    "\n",
    "url = r\"Z:\\BDAT 1004\\wind.txt\"\n",
    "wind = pd.read_csv(url, sep=r'\\s+', header=None)\n",
    "\n",
    "print(wind)"
   ]
  },
  {
   "cell_type": "code",
   "execution_count": 30,
   "metadata": {},
   "outputs": [
    {
     "name": "stdout",
     "output_type": "stream",
     "text": [
      "               3      4      5      6      7      8      9      10     11  \\\n",
      "Date                                                                        \n",
      "1961-01-01  15.04  14.96  13.17   9.29    NaN   9.87  13.67  10.25  10.83   \n",
      "1961-01-02  14.71    NaN  10.83   6.50  12.62   7.67  11.50  10.04   9.79   \n",
      "1961-01-03  18.50  16.88  12.33  10.13  11.17   6.17  11.25    NaN   8.50   \n",
      "1961-01-04  10.58   6.63  11.75   4.58   4.54   2.88   8.63   1.79   5.83   \n",
      "1961-01-05  13.33  13.25  11.42   6.17  10.71   8.21  11.92   6.54  10.92   \n",
      "...           ...    ...    ...    ...    ...    ...    ...    ...    ...   \n",
      "1978-12-27  17.58  16.96  17.62   8.08  13.21  11.67  14.46  15.59  14.04   \n",
      "1978-12-28  13.21   5.46  13.46   5.00   8.12   9.42  14.33  16.25  15.25   \n",
      "1978-12-29  14.00  10.29  14.42   8.71   9.71  10.54  19.17  12.46  14.50   \n",
      "1978-12-30  18.50  14.04  21.29   9.13  12.75   9.71  18.08  12.87  12.46   \n",
      "1978-12-31  20.33  17.41  27.29   9.59  12.08  10.13  19.25  11.63  11.58   \n",
      "\n",
      "               12     13     14  \n",
      "Date                             \n",
      "1961-01-01  12.58  18.50  15.04  \n",
      "1961-01-02   9.67  17.54  13.83  \n",
      "1961-01-03   7.67  12.75  12.71  \n",
      "1961-01-04   5.88   5.46  10.88  \n",
      "1961-01-05  10.34  12.92  11.83  \n",
      "...           ...    ...    ...  \n",
      "1978-12-27  14.00  17.21  40.08  \n",
      "1978-12-28  18.05  21.79  41.46  \n",
      "1978-12-29  16.42  18.88  29.58  \n",
      "1978-12-30  12.12  14.67  28.79  \n",
      "1978-12-31  11.38  12.08  22.08  \n",
      "\n",
      "[6574 rows x 12 columns]\n"
     ]
    }
   ],
   "source": [
    "#Step.3)\n",
    "\n",
    "data = wind.copy()\n",
    "\n",
    "data[0] = data[0].apply(pd.to_numeric, errors='coerce').fillna(0).astype(int)  \n",
    "data[1] = data[1].apply(pd.to_numeric, errors='coerce').fillna(0).astype(int)  \n",
    "data[2] = data[2].apply(pd.to_numeric, errors='coerce').fillna(0).astype(int)  \n",
    "\n",
    "data = data[(data[0] != 0) & (data[1] != 0) & (data[2] != 0)]\n",
    "\n",
    "data[0] = data[0].apply(lambda x: '19' + str(x) if len(str(x)) == 2 else str(x))\n",
    "\n",
    "data['Date'] = pd.to_datetime(data[0].astype(str) + '-' + data[1].astype(str) + '-' + data[2].astype(str), format='%Y-%m-%d')\n",
    "\n",
    "data.set_index('Date', inplace=True)\n",
    "\n",
    "data = data.drop(columns=[0, 1, 2])\n",
    "\n",
    "print(data)\n"
   ]
  },
  {
   "cell_type": "code",
   "execution_count": 31,
   "metadata": {},
   "outputs": [
    {
     "name": "stdout",
     "output_type": "stream",
     "text": [
      "               3      4      5      6      7     8      9      10     11  \\\n",
      "Date                                                                       \n",
      "1961-01-01  15.04  14.96  13.17   9.29    NaN  9.87  13.67  10.25  10.83   \n",
      "1961-01-02  14.71    NaN  10.83   6.50  12.62  7.67  11.50  10.04   9.79   \n",
      "1961-01-03  18.50  16.88  12.33  10.13  11.17  6.17  11.25    NaN   8.50   \n",
      "1961-01-04  10.58   6.63  11.75   4.58   4.54  2.88   8.63   1.79   5.83   \n",
      "1961-01-05  13.33  13.25  11.42   6.17  10.71  8.21  11.92   6.54  10.92   \n",
      "\n",
      "               12     13     14  \n",
      "Date                             \n",
      "1961-01-01  12.58  18.50  15.04  \n",
      "1961-01-02   9.67  17.54  13.83  \n",
      "1961-01-03   7.67  12.75  12.71  \n",
      "1961-01-04   5.88   5.46  10.88  \n",
      "1961-01-05  10.34  12.92  11.83  \n"
     ]
    }
   ],
   "source": [
    "#Step.4)\n",
    "\n",
    "def fix_year_in_date(date):\n",
    "    if date.year == 2061:\n",
    "        return date.replace(year=1961)\n",
    "    return date\n",
    "    \n",
    "data.index = data.index.map(fix_year_in_date)\n",
    "\n",
    "print(data.head())"
   ]
  },
  {
   "cell_type": "code",
   "execution_count": 32,
   "metadata": {},
   "outputs": [
    {
     "name": "stdout",
     "output_type": "stream",
     "text": [
      "datetime64[ns]\n"
     ]
    }
   ],
   "source": [
    "#Step.5)\n",
    "\n",
    "data.index = pd.to_datetime(data.index)\n",
    "\n",
    "print(data.index.dtype)"
   ]
  },
  {
   "cell_type": "code",
   "execution_count": 33,
   "metadata": {},
   "outputs": [
    {
     "name": "stdout",
     "output_type": "stream",
     "text": [
      "3     6\n",
      "4     3\n",
      "5     2\n",
      "6     5\n",
      "7     2\n",
      "8     0\n",
      "9     3\n",
      "10    2\n",
      "11    3\n",
      "12    1\n",
      "13    0\n",
      "14    4\n",
      "dtype: int64\n"
     ]
    }
   ],
   "source": [
    "#Step.6)\n",
    "\n",
    "\n",
    "missing_values = data.isna().sum()\n",
    "print(missing_values)"
   ]
  },
  {
   "cell_type": "code",
   "execution_count": 34,
   "metadata": {},
   "outputs": [
    {
     "name": "stdout",
     "output_type": "stream",
     "text": [
      "3     6568\n",
      "4     6571\n",
      "5     6572\n",
      "6     6569\n",
      "7     6572\n",
      "8     6574\n",
      "9     6571\n",
      "10    6572\n",
      "11    6571\n",
      "12    6573\n",
      "13    6574\n",
      "14    6570\n",
      "dtype: int64\n"
     ]
    }
   ],
   "source": [
    "#Step.7)\n",
    "\n",
    "\n",
    "non_missing_values = data.notna().sum()\n",
    "print(non_missing_values)"
   ]
  },
  {
   "cell_type": "code",
   "execution_count": 35,
   "metadata": {},
   "outputs": [
    {
     "name": "stdout",
     "output_type": "stream",
     "text": [
      "Mean windspeed over all locations and times: 9.79\n"
     ]
    }
   ],
   "source": [
    "#Step.8)\n",
    "\n",
    "windspeed_columns = data.columns[3:15] \n",
    "data[windspeed_columns] = data[windspeed_columns].apply(pd.to_numeric, errors='coerce')\n",
    "data[windspeed_columns] = data[windspeed_columns].apply(lambda col: col.fillna(col.mean()))\n",
    "mean_windspeed = data[windspeed_columns].mean().mean()\n",
    "print(f\"Mean windspeed over all locations and times: {mean_windspeed:.2f}\")"
   ]
  },
  {
   "cell_type": "code",
   "execution_count": 36,
   "metadata": {},
   "outputs": [
    {
     "name": "stdout",
     "output_type": "stream",
     "text": [
      "     min    max       mean       std\n",
      "6   0.00  28.46   6.306468  3.604439\n",
      "7   0.13  37.54  10.455834  4.935374\n",
      "8   0.00  26.16   7.092254  3.968683\n",
      "9   0.00  30.37   9.797343  4.976419\n",
      "10  0.00  31.08   8.495053  4.498764\n",
      "11  0.00  25.88   8.493590  4.165921\n",
      "12  0.04  28.21   8.707332  4.503612\n",
      "13  0.13  42.38  13.121007  5.835037\n",
      "14  0.67  42.54  15.599079  6.697755\n"
     ]
    }
   ],
   "source": [
    "#Step.9)\n",
    "\n",
    "loc_stats = data.describe().T[['min', 'max', 'mean', 'std']]\n",
    "print(loc_stats)"
   ]
  },
  {
   "cell_type": "code",
   "execution_count": 37,
   "metadata": {},
   "outputs": [
    {
     "name": "stdout",
     "output_type": "stream",
     "text": [
      "               6                            7                             \\\n",
      "              min    max   mean std        min        max       mean std   \n",
      "Date                                                                       \n",
      "1961-01-01   9.29   9.29   9.29 NaN  10.455834  10.455834  10.455834 NaN   \n",
      "1961-01-02   6.50   6.50   6.50 NaN  12.620000  12.620000  12.620000 NaN   \n",
      "1961-01-03  10.13  10.13  10.13 NaN  11.170000  11.170000  11.170000 NaN   \n",
      "1961-01-04   4.58   4.58   4.58 NaN   4.540000   4.540000   4.540000 NaN   \n",
      "1961-01-05   6.17   6.17   6.17 NaN  10.710000  10.710000  10.710000 NaN   \n",
      "...           ...    ...    ...  ..        ...        ...        ...  ..   \n",
      "1978-12-27   8.08   8.08   8.08 NaN  13.210000  13.210000  13.210000 NaN   \n",
      "1978-12-28   5.00   5.00   5.00 NaN   8.120000   8.120000   8.120000 NaN   \n",
      "1978-12-29   8.71   8.71   8.71 NaN   9.710000   9.710000   9.710000 NaN   \n",
      "1978-12-30   9.13   9.13   9.13 NaN  12.750000  12.750000  12.750000 NaN   \n",
      "1978-12-31   9.59   9.59   9.59 NaN  12.080000  12.080000  12.080000 NaN   \n",
      "\n",
      "               8          ...     12         13                       14  \\\n",
      "              min    max  ...   mean std    min    max   mean std    min   \n",
      "Date                      ...                                              \n",
      "1961-01-01   9.87   9.87  ...  12.58 NaN  18.50  18.50  18.50 NaN  15.04   \n",
      "1961-01-02   7.67   7.67  ...   9.67 NaN  17.54  17.54  17.54 NaN  13.83   \n",
      "1961-01-03   6.17   6.17  ...   7.67 NaN  12.75  12.75  12.75 NaN  12.71   \n",
      "1961-01-04   2.88   2.88  ...   5.88 NaN   5.46   5.46   5.46 NaN  10.88   \n",
      "1961-01-05   8.21   8.21  ...  10.34 NaN  12.92  12.92  12.92 NaN  11.83   \n",
      "...           ...    ...  ...    ...  ..    ...    ...    ...  ..    ...   \n",
      "1978-12-27  11.67  11.67  ...  14.00 NaN  17.21  17.21  17.21 NaN  40.08   \n",
      "1978-12-28   9.42   9.42  ...  18.05 NaN  21.79  21.79  21.79 NaN  41.46   \n",
      "1978-12-29  10.54  10.54  ...  16.42 NaN  18.88  18.88  18.88 NaN  29.58   \n",
      "1978-12-30   9.71   9.71  ...  12.12 NaN  14.67  14.67  14.67 NaN  28.79   \n",
      "1978-12-31  10.13  10.13  ...  11.38 NaN  12.08  12.08  12.08 NaN  22.08   \n",
      "\n",
      "                              \n",
      "              max   mean std  \n",
      "Date                          \n",
      "1961-01-01  15.04  15.04 NaN  \n",
      "1961-01-02  13.83  13.83 NaN  \n",
      "1961-01-03  12.71  12.71 NaN  \n",
      "1961-01-04  10.88  10.88 NaN  \n",
      "1961-01-05  11.83  11.83 NaN  \n",
      "...           ...    ...  ..  \n",
      "1978-12-27  40.08  40.08 NaN  \n",
      "1978-12-28  41.46  41.46 NaN  \n",
      "1978-12-29  29.58  29.58 NaN  \n",
      "1978-12-30  28.79  28.79 NaN  \n",
      "1978-12-31  22.08  22.08 NaN  \n",
      "\n",
      "[6574 rows x 36 columns]\n"
     ]
    }
   ],
   "source": [
    "#Step.10)\n",
    "\n",
    "windspeed_columns = data.columns[3:15]  \n",
    "day_stats = data[windspeed_columns].groupby(data.index).agg([\n",
    "    'min',   \n",
    "    'max',   \n",
    "    'mean',  \n",
    "    'std'    \n",
    "])\n",
    "print(day_stats)"
   ]
  },
  {
   "cell_type": "code",
   "execution_count": 38,
   "metadata": {},
   "outputs": [
    {
     "name": "stdout",
     "output_type": "stream",
     "text": [
      "              6         7         8          9        10        11         12  \\\n",
      "Month                                                                           \n",
      "1      7.199498  11.66339  8.054839  11.819355  9.510224  9.543208  10.053566   \n",
      "\n",
      "             13         14    Year  Month  \n",
      "Month                                      \n",
      "1      14.55052  18.028763  1969.5    1.0  \n"
     ]
    }
   ],
   "source": [
    "#Step.11)\n",
    "\n",
    "data['Year'] = data.index.year\n",
    "data['Month'] = data.index.month\n",
    "january_data = data[data['Month'] == 1]\n",
    "windspeed_columns = data.columns[3:15]  \n",
    "january_mean_windspeed = january_data[windspeed_columns].groupby(january_data['Month']).mean()\n",
    "print(january_mean_windspeed)"
   ]
  },
  {
   "cell_type": "code",
   "execution_count": 39,
   "metadata": {},
   "outputs": [
    {
     "name": "stdout",
     "output_type": "stream",
     "text": [
      "                   6          7         8          9         10        11  \\\n",
      "Date                                                                        \n",
      "1961-12-31  6.951085  10.879429  7.729726   9.734444   8.856795  8.646386   \n",
      "1962-12-31  6.958648  10.657918  7.393068  11.020712   8.793753  8.316822   \n",
      "1963-12-31  7.330055  11.724110  8.434712  11.075699  10.336548  8.903589   \n",
      "1964-12-31  6.787787  11.454481  7.570874  10.259153   9.467350  7.789016   \n",
      "1965-12-31  6.858466  11.024795  7.478110  10.618712   8.879918  7.907425   \n",
      "1966-12-31  7.345726  11.805041  7.793671  10.579808   8.835096  8.514438   \n",
      "1967-12-31  7.143425  11.630740  7.368164  10.652027   9.325616  8.645014   \n",
      "1968-12-31  6.477678  10.760765  6.067322   8.859180   8.255519  7.224945   \n",
      "1969-12-31  5.767973   9.873918  6.189973   8.564493   7.711397  7.924521   \n",
      "1970-12-31  6.217178  10.567370  7.609452   9.609890   8.334630  9.297616   \n",
      "1971-12-31  5.241507   9.440329  6.097151   8.385890   6.757315  7.915370   \n",
      "1972-12-31  5.929699   9.430410  6.358825   9.704508   7.680792  8.357295   \n",
      "1973-12-31  5.547863   9.640877  6.548740   8.482110   7.614274  8.245534   \n",
      "1974-12-31  6.427041  11.110986  6.809781  10.084603   9.896986  9.331753   \n",
      "1975-12-31  5.269096   9.190082  5.668521   8.562603   7.843836  8.797945   \n",
      "1976-12-31  5.109426   8.846339  6.311038   9.149126   7.146202  8.883716   \n",
      "1977-12-31  6.073945  10.003836  8.586438  11.523205   8.378384  9.098192   \n",
      "1978-12-31  6.082356  10.167233  7.650658   9.489342   8.800466  9.089753   \n",
      "\n",
      "                   12         13         14    Year     Month  \n",
      "Date                                                           \n",
      "1961-12-31   9.832486  13.502795  13.696540  1961.0  6.526027  \n",
      "1962-12-31   9.676247  12.930685  14.327450  1962.0  6.526027  \n",
      "1963-12-31  10.224438  13.638877  14.999014  1963.0  6.526027  \n",
      "1964-12-31  10.207951  13.740546  14.910301  1964.0  6.513661  \n",
      "1965-12-31   9.918082  12.964247  15.591644  1965.0  6.526027  \n",
      "1966-12-31   9.768959  14.265836  16.307260  1966.0  6.526027  \n",
      "1967-12-31   9.547425  14.774548  17.135945  1967.0  6.526027  \n",
      "1968-12-31   7.832978  12.808634  15.017486  1968.0  6.513661  \n",
      "1969-12-31   7.754384  12.621233  15.762904  1969.0  6.526027  \n",
      "1970-12-31   8.289808  13.183644  16.456027  1970.0  6.526027  \n",
      "1971-12-31   7.229753  12.208932  15.025233  1971.0  6.526027  \n",
      "1972-12-31   7.515273  12.727377  15.028716  1972.0  6.513661  \n",
      "1973-12-31   7.812411  12.169699  15.441096  1973.0  6.526027  \n",
      "1974-12-31   8.736356  13.252959  16.947671  1974.0  6.526027  \n",
      "1975-12-31   7.382822  12.631671  15.307863  1975.0  6.526027  \n",
      "1976-12-31   7.883087  12.332377  15.471448  1976.0  6.513661  \n",
      "1977-12-31   8.821616  13.459068  16.590849  1977.0  6.526027  \n",
      "1978-12-31   8.301699  12.967397  16.771370  1978.0  6.526027  \n"
     ]
    }
   ],
   "source": [
    "#Step.12)\n",
    "\n",
    "windspeed_columns = data.columns[3:15]  \n",
    "yearly_data = data.resample('Y').mean()\n",
    "print(yearly_data)"
   ]
  },
  {
   "cell_type": "code",
   "execution_count": 40,
   "metadata": {},
   "outputs": [
    {
     "name": "stdout",
     "output_type": "stream",
     "text": [
      "                   6          7          8          9         10         11  \\\n",
      "Date                                                                          \n",
      "1961-01-31  7.736774  11.032957   8.588065  11.184839   9.221131   9.085806   \n",
      "1961-02-28  9.126302  13.852143  10.937500  11.890714  11.846071  11.821429   \n",
      "1961-03-31  7.252467  10.509355   8.866774   9.644194   9.829677  10.177974   \n",
      "1961-04-30  5.830667   8.435000   6.495000   6.925333   7.094667   7.342333   \n",
      "1961-05-31  5.918273   9.490323   6.574839   7.674753   8.177097   8.039355   \n",
      "...              ...        ...        ...        ...        ...        ...   \n",
      "1978-08-31  4.502903   7.368065   5.935161   5.650323   5.417742   7.241290   \n",
      "1978-09-30  5.725000  10.372000   9.278333  10.790333   9.583000  10.069333   \n",
      "1978-10-31  4.721290   8.525161   6.774194   8.115484   7.337742   8.297742   \n",
      "1978-11-30  7.317333  11.475000   8.743000  11.492333   9.657333  10.701333   \n",
      "1978-12-31  7.094839  11.398710   9.241613  12.077419  10.194839  10.616774   \n",
      "\n",
      "                   12         13         14  Year  Month  \n",
      "Date                                                      \n",
      "1961-01-31  10.107419  13.880968  14.703226  1961      1  \n",
      "1961-02-28  12.714286  18.583214  15.411786  1961      2  \n",
      "1961-03-31  11.251935  16.410968  15.716099  1961      3  \n",
      "1961-04-30   7.237000  11.147333  10.278333  1961      4  \n",
      "1961-05-31   8.499355  11.900323  12.011613  1961      5  \n",
      "...               ...        ...        ...   ...    ...  \n",
      "1978-08-31   5.536774  10.466774  12.054194  1978      8  \n",
      "1978-09-30   8.939000  15.680333  19.391333  1978      9  \n",
      "1978-10-31   8.243871  13.776774  17.150000  1978     10  \n",
      "1978-11-30  10.676000  17.404667  20.723000  1978     11  \n",
      "1978-12-31  11.028710  13.859677  21.371613  1978     12  \n",
      "\n",
      "[216 rows x 11 columns]\n"
     ]
    }
   ],
   "source": [
    "#Step.13)\n",
    "\n",
    "windspeed_columns = data.columns[3:15]  \n",
    "monthly_data = data.resample('M').mean()\n",
    "print(monthly_data)"
   ]
  },
  {
   "cell_type": "code",
   "execution_count": 41,
   "metadata": {},
   "outputs": [
    {
     "name": "stdout",
     "output_type": "stream",
     "text": [
      "                    6                                 7                    \\\n",
      "                 mean    max   min       std       mean    max        min   \n",
      "Date                                                                        \n",
      "1961-01-02   7.895000   9.29  6.50  1.972828  11.537917  12.62  10.455834   \n",
      "1961-01-09   6.167143  10.13  4.58  1.915191   9.152857  12.29   4.540000   \n",
      "1961-01-16   4.624286  10.54  0.67  3.549365   7.490000  11.34   2.290000   \n",
      "1961-01-23   7.150000  18.54  1.04  6.373989   9.487976  13.96   3.670000   \n",
      "1961-01-30  12.357143  17.54  6.04  4.619148  17.372857  24.08  10.000000   \n",
      "...               ...    ...   ...       ...        ...    ...        ...   \n",
      "1978-12-04   5.571429  12.79  0.96  4.723986  10.828571  18.21   4.540000   \n",
      "1978-12-11  11.194286  18.16  3.37  5.461574  16.257143  24.46   6.500000   \n",
      "1978-12-18   5.398571   8.33  1.00  2.857869  10.152857  18.12   3.040000   \n",
      "1978-12-25   4.242857   9.50  2.33  2.537096   7.212857  14.29   3.500000   \n",
      "1979-01-01   7.146667   9.59  2.37  2.851082  10.471667  13.21   6.960000   \n",
      "\n",
      "                              8         ...     14               Year        \\\n",
      "                 std       mean    max  ...    min        std    mean   max   \n",
      "Date                                    ...                                   \n",
      "1961-01-02  1.530297   8.770000   9.87  ...  13.83   0.855599  1961.0  1961   \n",
      "1961-01-09  2.989519   6.310000   8.33  ...  10.88   1.945803  1961.0  1961   \n",
      "1961-01-16  3.628126   5.091429   9.46  ...   5.17   4.309625  1961.0  1961   \n",
      "1961-01-23  3.662831   8.238571  13.37  ...   6.79   5.269601  1961.0  1961   \n",
      "1961-01-30  4.917020  14.392857  19.70  ...  17.50   4.016300  1961.0  1961   \n",
      "...              ...        ...    ...  ...    ...        ...     ...   ...   \n",
      "1978-12-04  5.033466   9.547143  19.29  ...  11.50   5.981950  1978.0  1978   \n",
      "1978-12-11  6.419584  13.612857  19.58  ...  15.34   7.785837  1978.0  1978   \n",
      "1978-12-18  5.400555   6.220000  12.17  ...   6.92   5.479356  1978.0  1978   \n",
      "1978-12-25  3.540582   6.087143  13.08  ...  10.29   7.418295  1978.0  1978   \n",
      "1979-01-01  2.596855   9.293333  11.67  ...  11.96  11.105369  1978.0  1978   \n",
      "\n",
      "                           Month                    \n",
      "             min  std       mean max min       std  \n",
      "Date                                                \n",
      "1961-01-02  1961  0.0   1.000000   1   1  0.000000  \n",
      "1961-01-09  1961  0.0   1.000000   1   1  0.000000  \n",
      "1961-01-16  1961  0.0   1.000000   1   1  0.000000  \n",
      "1961-01-23  1961  0.0   1.000000   1   1  0.000000  \n",
      "1961-01-30  1961  0.0   1.000000   1   1  0.000000  \n",
      "...          ...  ...        ...  ..  ..       ...  \n",
      "1978-12-04  1978  0.0  11.571429  12  11  0.534522  \n",
      "1978-12-11  1978  0.0  12.000000  12  12  0.000000  \n",
      "1978-12-18  1978  0.0  12.000000  12  12  0.000000  \n",
      "1978-12-25  1978  0.0  12.000000  12  12  0.000000  \n",
      "1979-01-01  1978  0.0  12.000000  12  12  0.000000  \n",
      "\n",
      "[940 rows x 44 columns]\n"
     ]
    }
   ],
   "source": [
    "#Step.14)\n",
    "\n",
    "windspeed_columns = data.columns[3:15]  \n",
    "weekly_stats = data[windspeed_columns].resample('W-MON').agg({\n",
    "    'min',   \n",
    "    'max',   \n",
    "    'mean', \n",
    "    'std'  \n",
    "})\n",
    "print(weekly_stats)"
   ]
  },
  {
   "cell_type": "code",
   "execution_count": 42,
   "metadata": {},
   "outputs": [
    {
     "name": "stdout",
     "output_type": "stream",
     "text": [
      "                    6                                 7                \\\n",
      "                 mean    max   min       std       mean    max    min   \n",
      "Date                                                                    \n",
      "1961-01-02   6.167143  10.13  4.58  1.915191   9.152857  12.29   4.54   \n",
      "1961-01-09   4.624286  10.54  0.67  3.549365   7.490000  11.34   2.29   \n",
      "1961-01-16   7.150000  18.54  1.04  6.373989   9.487976  13.96   3.67   \n",
      "1961-01-23  12.357143  17.54  6.04  4.619148  17.372857  24.08  10.00   \n",
      "1961-01-30   9.311429  15.37  5.09  3.802076  15.111429  25.33   9.87   \n",
      "1961-02-06  10.770000  15.34  8.38  2.251903  13.404286  17.04   8.12   \n",
      "1961-02-13   8.542353  13.25  4.21  3.317432  12.665714  15.29   9.87   \n",
      "1961-02-20   8.315714  15.21  2.21  4.526374  13.982857  23.09   5.96   \n",
      "1961-02-27   7.300000  10.04  3.13  2.435440  10.987143  16.13   5.41   \n",
      "1961-03-06   7.494286  10.25  5.13  2.089329  11.762857  14.92  10.00   \n",
      "1961-03-13   7.815714  11.04  4.29  2.665257  10.792857  14.37   6.83   \n",
      "1961-03-20   5.505714   8.83  2.75  2.003604   7.731429  13.33   2.83   \n",
      "1961-03-27   7.353781  12.00  3.67  3.057710  11.035714  18.34   4.67   \n",
      "1961-04-03   5.798571  10.63  3.00  3.001868   8.870000  13.33   5.88   \n",
      "1961-04-10   4.768571   9.71  1.58  2.884495   5.881429   8.71   2.21   \n",
      "1961-04-17   8.227143  11.63  4.79  3.092015  11.118571  14.37   7.54   \n",
      "1961-04-24   5.515714   9.79  1.87  2.674571   8.738571  13.46   3.88   \n",
      "1961-05-01  10.090000  14.46  6.46  3.154130  15.238571  23.16   9.42   \n",
      "1961-05-08   4.314286   8.83  1.04  2.563213   7.710000  12.83   3.42   \n",
      "1961-05-15   4.061429   5.17  2.50  0.945241   7.388571  12.92   4.17   \n",
      "1961-05-22   5.166638   9.87  2.42  2.512797   7.494286  10.21   3.75   \n",
      "1961-05-29   5.708571   8.79  3.42  1.713568  10.028571  12.87   7.67   \n",
      "1961-06-05   5.144286   6.92  3.21  1.591727   9.415714  13.13   5.66   \n",
      "1961-06-12   6.698571   9.42  2.92  2.049174  11.071429  14.92   3.50   \n",
      "1961-06-19   5.572857   7.08  2.88  1.429752  11.631429  13.21   8.58   \n",
      "1961-06-26   7.201429  10.54  4.42  2.290163  11.855714  18.58   8.04   \n",
      "1961-07-03   6.901429  12.00  3.54  2.737307  11.191429  14.42   8.00   \n",
      "1961-07-10   8.688571  12.42  1.46  3.822026  13.892857  20.88   5.04   \n",
      "1961-07-17   3.495714   4.67  2.42  0.878025   6.101429   7.33   4.96   \n",
      "1961-07-24   5.918571   9.92  3.42  2.654483  10.118571  17.50   5.25   \n",
      "1961-07-31   6.077143   8.96  3.04  1.917053  11.351429  16.92   6.58   \n",
      "1961-08-07   5.900000   8.79  2.50  2.122852  11.481429  16.21   7.58   \n",
      "1961-08-14   9.011429  11.79  6.83  2.263533  15.952857  21.04  12.96   \n",
      "1961-08-21   7.215714  12.42  3.96  2.692811  12.761429  17.62   7.46   \n",
      "1961-08-28   4.321429   9.17  2.37  2.385655   7.840000  19.21   4.25   \n",
      "1961-09-04   6.387143  10.50  2.75  2.911201  10.284286  14.54   7.54   \n",
      "1961-09-11  10.563781  21.09  3.96  5.442028  14.551429  28.50   5.79   \n",
      "1961-09-18   4.985714   7.17  2.62  1.511565   9.041429  12.92   3.88   \n",
      "1961-09-25   8.762857  11.17  6.00  1.708837  13.434286  20.75   9.62   \n",
      "1961-10-02   5.382857   9.79  1.46  3.402165   8.392857  13.59   3.75   \n",
      "1961-10-09   6.554286   9.42  3.67  2.334972  11.351429  15.63   7.29   \n",
      "1961-10-16  12.845714  19.38  6.83  4.843390  15.428571  22.46   7.75   \n",
      "1961-10-23   7.778571  16.54  1.71  5.511350  12.500000  24.41   4.46   \n",
      "1961-10-30   7.064286  11.79  3.04  2.980133  10.310000  17.25   6.00   \n",
      "1961-11-06   6.130000  13.33  1.87  4.261044   7.577143  10.00   3.37   \n",
      "1961-11-13   4.708571   9.71  1.50  2.630129   7.898571  10.25   5.04   \n",
      "1961-11-20   5.000000   7.96  2.04  1.817636   8.362857  12.75   4.17   \n",
      "1961-11-27   7.310000  14.46  3.29  4.240649  11.695714  19.92   6.00   \n",
      "1961-12-04   9.088571  13.62  3.83  4.208137  13.565714  20.00   7.79   \n",
      "1961-12-11   7.007143  12.92  1.79  3.583386  12.684286  16.75   8.71   \n",
      "1961-12-18   6.458571  15.59  0.58  5.042345  12.304286  20.38   7.33   \n",
      "1961-12-25   6.160000  11.79  0.42  4.329580   6.808571  11.21   2.21   \n",
      "\n",
      "                              8         ...     14                   Year  \\\n",
      "                 std       mean    max  ...    min       std         mean   \n",
      "Date                                    ...                                 \n",
      "1961-01-02  2.989519   6.310000   8.33  ...  10.88  1.945803  1961.000000   \n",
      "1961-01-09  3.628126   5.091429   9.46  ...   5.17  4.309625  1961.000000   \n",
      "1961-01-16  3.662831   8.238571  13.37  ...   6.79  5.269601  1961.000000   \n",
      "1961-01-23  4.917020  14.392857  19.70  ...  17.50  4.016300  1961.000000   \n",
      "1961-01-30  5.073340  10.250000  17.62  ...   7.17  5.106345  1961.000000   \n",
      "1961-02-06  3.253761  12.094286  14.62  ...  17.04  1.440565  1961.000000   \n",
      "1961-02-13  2.131751  10.964286  15.12  ...  10.96  4.719554  1961.000000   \n",
      "1961-02-20  6.376560  10.180000  16.88  ...   6.67  6.203754  1961.000000   \n",
      "1961-02-27  3.814939   8.571429  12.29  ...   5.54  3.892878  1961.000000   \n",
      "1961-03-06  1.949228  10.417143  13.67  ...   8.75  4.384913  1961.000000   \n",
      "1961-03-13  2.664155   8.611429  10.75  ...  11.34  4.627943  1961.000000   \n",
      "1961-03-20  3.468234   7.012857  10.21  ...  13.13  3.572360  1961.000000   \n",
      "1961-03-27  4.711772   9.957143  14.33  ...   7.17  4.197124  1961.000000   \n",
      "1961-04-03  3.025932   6.952857  10.83  ...   7.21  2.451377  1961.000000   \n",
      "1961-04-10  2.517535   4.458571   8.58  ...   5.66  2.534367  1961.000000   \n",
      "1961-04-17  2.564790   8.501429  11.63  ...   4.96  5.745835  1961.000000   \n",
      "1961-04-24  3.864882   5.828571  10.17  ...   2.67  5.191255  1961.000000   \n",
      "1961-05-01  5.749862  11.417143  15.46  ...   3.83  8.670898  1961.000000   \n",
      "1961-05-08  3.954757   4.880000   9.92  ...   3.33  3.543513  1961.000000   \n",
      "1961-05-15  2.778473   5.070000   6.79  ...   5.91  3.166544  1961.000000   \n",
      "1961-05-22  2.690396   4.780000   8.46  ...   8.00  4.448201  1961.000000   \n",
      "1961-05-29  2.178466   6.105714   7.79  ...  10.63  1.753166  1961.000000   \n",
      "1961-06-05  2.784139   5.115714   8.63  ...   5.96  4.936844  1961.000000   \n",
      "1961-06-12  3.652138   7.535714  10.34  ...   6.13  6.045593  1961.000000   \n",
      "1961-06-19  1.463038   7.237143   8.67  ...  11.63  3.774524  1961.000000   \n",
      "1961-06-26  3.620018   7.281429  11.38  ...   8.50  4.790396  1961.000000   \n",
      "1961-07-03  2.605228   6.851429   9.75  ...   5.96  4.462341  1961.000000   \n",
      "1961-07-10  5.601850   8.198571  13.17  ...   9.13  4.386649  1961.000000   \n",
      "1961-07-17  0.784016   2.852857   3.88  ...   5.41  2.263925  1961.000000   \n",
      "1961-07-24  4.460730   6.534286  13.50  ...   9.25  6.099319  1961.000000   \n",
      "1961-07-31  3.896676   7.351429  10.21  ...   5.88  5.196728  1961.000000   \n",
      "1961-08-07  3.371495   7.088571  11.46  ...   6.83  3.317561  1961.000000   \n",
      "1961-08-14  3.384522  10.970000  15.34  ...  13.04  4.180960  1961.000000   \n",
      "1961-08-21  3.461240   9.101429  13.08  ...   8.29  4.261346  1961.000000   \n",
      "1961-08-28  5.210803   4.720000  12.12  ...   3.37  6.302512  1961.000000   \n",
      "1961-09-04  2.618185   6.507143   9.83  ...   5.79  5.096127  1961.000000   \n",
      "1961-09-11  7.224157  10.588571  20.67  ...   9.21  7.226080  1961.000000   \n",
      "1961-09-18  3.142814   5.548571   8.00  ...   5.25  3.909467  1961.000000   \n",
      "1961-09-25  3.632120   8.965714  12.00  ...   4.04  5.194436  1961.000000   \n",
      "1961-10-02  3.904394   5.385714   9.71  ...   4.83  4.223482  1961.000000   \n",
      "1961-10-09  2.933686   8.132857  11.04  ...  10.75  5.206006  1961.000000   \n",
      "1961-10-16  6.170903  11.114286  16.42  ...  13.46  7.478050  1961.000000   \n",
      "1961-10-23  7.105294   8.434286  15.46  ...   9.83  7.917145  1961.000000   \n",
      "1961-10-30  3.797385   8.095714  12.21  ...  13.37  4.341065  1961.000000   \n",
      "1961-11-06  2.256736   4.994286  10.13  ...   5.71  3.662029  1961.000000   \n",
      "1961-11-13  1.991711   4.718571   8.42  ...   2.00  2.433389  1961.000000   \n",
      "1961-11-20  2.791700   6.015714   9.83  ...   4.25  6.846596  1961.000000   \n",
      "1961-11-27  4.885580   8.362857  12.75  ...  11.17  3.669600  1961.000000   \n",
      "1961-12-04  4.369076  10.718571  14.83  ...   7.58  7.294477  1961.000000   \n",
      "1961-12-11  3.506427  10.527143  16.42  ...   5.91  6.233125  1961.000000   \n",
      "1961-12-18  4.707738   7.297143  13.59  ...   2.62  5.308593  1961.000000   \n",
      "1961-12-25  3.346692   4.492857   7.41  ...   6.63  3.497994  1961.142857   \n",
      "\n",
      "                                      Month                    \n",
      "             max   min       std       mean max min       std  \n",
      "Date                                                           \n",
      "1961-01-02  1961  1961  0.000000   1.000000   1   1  0.000000  \n",
      "1961-01-09  1961  1961  0.000000   1.000000   1   1  0.000000  \n",
      "1961-01-16  1961  1961  0.000000   1.000000   1   1  0.000000  \n",
      "1961-01-23  1961  1961  0.000000   1.000000   1   1  0.000000  \n",
      "1961-01-30  1961  1961  0.000000   1.857143   2   1  0.377964  \n",
      "1961-02-06  1961  1961  0.000000   2.000000   2   2  0.000000  \n",
      "1961-02-13  1961  1961  0.000000   2.000000   2   2  0.000000  \n",
      "1961-02-20  1961  1961  0.000000   2.000000   2   2  0.000000  \n",
      "1961-02-27  1961  1961  0.000000   2.857143   3   2  0.377964  \n",
      "1961-03-06  1961  1961  0.000000   3.000000   3   3  0.000000  \n",
      "1961-03-13  1961  1961  0.000000   3.000000   3   3  0.000000  \n",
      "1961-03-20  1961  1961  0.000000   3.000000   3   3  0.000000  \n",
      "1961-03-27  1961  1961  0.000000   3.428571   4   3  0.534522  \n",
      "1961-04-03  1961  1961  0.000000   4.000000   4   4  0.000000  \n",
      "1961-04-10  1961  1961  0.000000   4.000000   4   4  0.000000  \n",
      "1961-04-17  1961  1961  0.000000   4.000000   4   4  0.000000  \n",
      "1961-04-24  1961  1961  0.000000   4.142857   5   4  0.377964  \n",
      "1961-05-01  1961  1961  0.000000   5.000000   5   5  0.000000  \n",
      "1961-05-08  1961  1961  0.000000   5.000000   5   5  0.000000  \n",
      "1961-05-15  1961  1961  0.000000   5.000000   5   5  0.000000  \n",
      "1961-05-22  1961  1961  0.000000   5.000000   5   5  0.000000  \n",
      "1961-05-29  1961  1961  0.000000   5.714286   6   5  0.487950  \n",
      "1961-06-05  1961  1961  0.000000   6.000000   6   6  0.000000  \n",
      "1961-06-12  1961  1961  0.000000   6.000000   6   6  0.000000  \n",
      "1961-06-19  1961  1961  0.000000   6.000000   6   6  0.000000  \n",
      "1961-06-26  1961  1961  0.000000   6.428571   7   6  0.534522  \n",
      "1961-07-03  1961  1961  0.000000   7.000000   7   7  0.000000  \n",
      "1961-07-10  1961  1961  0.000000   7.000000   7   7  0.000000  \n",
      "1961-07-17  1961  1961  0.000000   7.000000   7   7  0.000000  \n",
      "1961-07-24  1961  1961  0.000000   7.000000   7   7  0.000000  \n",
      "1961-07-31  1961  1961  0.000000   8.000000   8   8  0.000000  \n",
      "1961-08-07  1961  1961  0.000000   8.000000   8   8  0.000000  \n",
      "1961-08-14  1961  1961  0.000000   8.000000   8   8  0.000000  \n",
      "1961-08-21  1961  1961  0.000000   8.000000   8   8  0.000000  \n",
      "1961-08-28  1961  1961  0.000000   8.571429   9   8  0.534522  \n",
      "1961-09-04  1961  1961  0.000000   9.000000   9   9  0.000000  \n",
      "1961-09-11  1961  1961  0.000000   9.000000   9   9  0.000000  \n",
      "1961-09-18  1961  1961  0.000000   9.000000   9   9  0.000000  \n",
      "1961-09-25  1961  1961  0.000000   9.285714  10   9  0.487950  \n",
      "1961-10-02  1961  1961  0.000000  10.000000  10  10  0.000000  \n",
      "1961-10-09  1961  1961  0.000000  10.000000  10  10  0.000000  \n",
      "1961-10-16  1961  1961  0.000000  10.000000  10  10  0.000000  \n",
      "1961-10-23  1961  1961  0.000000  10.000000  10  10  0.000000  \n",
      "1961-10-30  1961  1961  0.000000  10.857143  11  10  0.377964  \n",
      "1961-11-06  1961  1961  0.000000  11.000000  11  11  0.000000  \n",
      "1961-11-13  1961  1961  0.000000  11.000000  11  11  0.000000  \n",
      "1961-11-20  1961  1961  0.000000  11.000000  11  11  0.000000  \n",
      "1961-11-27  1961  1961  0.000000  11.571429  12  11  0.534522  \n",
      "1961-12-04  1961  1961  0.000000  12.000000  12  12  0.000000  \n",
      "1961-12-11  1961  1961  0.000000  12.000000  12  12  0.000000  \n",
      "1961-12-18  1961  1961  0.000000  12.000000  12  12  0.000000  \n",
      "1961-12-25  1962  1961  0.377964  10.428571  12   1  4.157609  \n",
      "\n",
      "[52 rows x 44 columns]\n"
     ]
    }
   ],
   "source": [
    "#Step.15)\n",
    "\n",
    "windspeed_columns = data.columns[3:15]  \n",
    "weekly_stats = data[windspeed_columns].resample('W-MON', label='left').agg({\n",
    "    'min',   \n",
    "    'max',  \n",
    "    'mean',  \n",
    "    'std'    \n",
    "})\n",
    "weekly_stats_52_weeks = weekly_stats.loc['1961-01-02':'1961-12-31']\n",
    "print(weekly_stats_52_weeks.head(52))"
   ]
  },
  {
   "cell_type": "code",
   "execution_count": 43,
   "metadata": {},
   "outputs": [],
   "source": [
    "#Ans.5)\n",
    "\n",
    "#Step.1)\n",
    "import pandas as pd"
   ]
  },
  {
   "cell_type": "code",
   "execution_count": 44,
   "metadata": {},
   "outputs": [],
   "source": [
    "#Step.2&3)\n",
    "\n",
    "url = 'https://raw.githubusercontent.com/justmarkham/DAT8/master/data/chipotle.tsv'  \n",
    "chipo = pd.read_csv(url, sep='\\t')"
   ]
  },
  {
   "cell_type": "code",
   "execution_count": 45,
   "metadata": {},
   "outputs": [
    {
     "name": "stdout",
     "output_type": "stream",
     "text": [
      "   order_id  quantity                              item_name  \\\n",
      "0         1         1           Chips and Fresh Tomato Salsa   \n",
      "1         1         1                                   Izze   \n",
      "2         1         1                       Nantucket Nectar   \n",
      "3         1         1  Chips and Tomatillo-Green Chili Salsa   \n",
      "4         2         2                           Chicken Bowl   \n",
      "5         3         1                           Chicken Bowl   \n",
      "6         3         1                          Side of Chips   \n",
      "7         4         1                          Steak Burrito   \n",
      "8         4         1                       Steak Soft Tacos   \n",
      "9         5         1                          Steak Burrito   \n",
      "\n",
      "                                  choice_description item_price  \n",
      "0                                                NaN     $2.39   \n",
      "1                                       [Clementine]     $3.39   \n",
      "2                                            [Apple]     $3.39   \n",
      "3                                                NaN     $2.39   \n",
      "4  [Tomatillo-Red Chili Salsa (Hot), [Black Beans...    $16.98   \n",
      "5  [Fresh Tomato Salsa (Mild), [Rice, Cheese, Sou...    $10.98   \n",
      "6                                                NaN     $1.69   \n",
      "7  [Tomatillo Red Chili Salsa, [Fajita Vegetables...    $11.75   \n",
      "8  [Tomatillo Green Chili Salsa, [Pinto Beans, Ch...     $9.25   \n",
      "9  [Fresh Tomato Salsa, [Rice, Black Beans, Pinto...     $9.25   \n"
     ]
    }
   ],
   "source": [
    "#Step.4)\n",
    "\n",
    "print(chipo.head(10))"
   ]
  },
  {
   "cell_type": "code",
   "execution_count": 46,
   "metadata": {},
   "outputs": [
    {
     "name": "stdout",
     "output_type": "stream",
     "text": [
      "Number of observations: 4622\n"
     ]
    }
   ],
   "source": [
    "#Step.5)\n",
    "\n",
    "num_observations = chipo.shape[0]\n",
    "print(f\"Number of observations: {num_observations}\")"
   ]
  },
  {
   "cell_type": "code",
   "execution_count": 47,
   "metadata": {},
   "outputs": [
    {
     "name": "stdout",
     "output_type": "stream",
     "text": [
      "Number of columns: 5\n"
     ]
    }
   ],
   "source": [
    "#Step.6)\n",
    "\n",
    "num_columns = chipo.shape[1]\n",
    "print(f\"Number of columns: {num_columns}\")"
   ]
  },
  {
   "cell_type": "code",
   "execution_count": 48,
   "metadata": {},
   "outputs": [
    {
     "name": "stdout",
     "output_type": "stream",
     "text": [
      "Column names: ['order_id', 'quantity', 'item_name', 'choice_description', 'item_price']\n"
     ]
    }
   ],
   "source": [
    "#Step.7)\n",
    "\n",
    "print(\"Column names:\", chipo.columns.tolist())"
   ]
  },
  {
   "cell_type": "code",
   "execution_count": 49,
   "metadata": {},
   "outputs": [
    {
     "name": "stdout",
     "output_type": "stream",
     "text": [
      "Index of the dataset: RangeIndex(start=0, stop=4622, step=1)\n"
     ]
    }
   ],
   "source": [
    "#Step.8)\n",
    "\n",
    "print(\"Index of the dataset:\", chipo.index)"
   ]
  },
  {
   "cell_type": "code",
   "execution_count": 50,
   "metadata": {},
   "outputs": [
    {
     "name": "stdout",
     "output_type": "stream",
     "text": [
      "The most ordered item was: Chicken Bowl\n"
     ]
    }
   ],
   "source": [
    "#step.9)\n",
    "\n",
    "most_ordered_item = chipo['item_name'].value_counts().idxmax()\n",
    "print(f\"The most ordered item was: {most_ordered_item}\")"
   ]
  },
  {
   "cell_type": "code",
   "execution_count": 51,
   "metadata": {},
   "outputs": [
    {
     "name": "stdout",
     "output_type": "stream",
     "text": [
      "The most ordered item was ordered 726 times.\n"
     ]
    }
   ],
   "source": [
    "#Step.10)\n",
    "\n",
    "most_ordered_item_count = chipo[chipo['item_name'] == most_ordered_item].shape[0]\n",
    "print(f\"The most ordered item was ordered {most_ordered_item_count} times.\")"
   ]
  },
  {
   "cell_type": "code",
   "execution_count": 52,
   "metadata": {},
   "outputs": [
    {
     "name": "stdout",
     "output_type": "stream",
     "text": [
      "The most ordered item in the choice_description column was: [Diet Coke]\n"
     ]
    }
   ],
   "source": [
    "#Step.11)\n",
    "\n",
    "most_ordered_choice_description = chipo['choice_description'].value_counts().idxmax()\n",
    "print(f\"The most ordered item in the choice_description column was: {most_ordered_choice_description}\")"
   ]
  },
  {
   "cell_type": "code",
   "execution_count": 53,
   "metadata": {},
   "outputs": [
    {
     "name": "stdout",
     "output_type": "stream",
     "text": [
      "Total items ordered: 4972\n"
     ]
    }
   ],
   "source": [
    "#step.12)\n",
    "\n",
    "total_items_ordered = chipo['quantity'].sum()\n",
    "print(f\"Total items ordered: {total_items_ordered}\")"
   ]
  },
  {
   "cell_type": "code",
   "execution_count": 54,
   "metadata": {},
   "outputs": [
    {
     "name": "stdout",
     "output_type": "stream",
     "text": [
      "Item price type before change: float64\n",
      "Item price type after change: float64\n"
     ]
    }
   ],
   "source": [
    "#Step.13)\n",
    "\n",
    "chipo['item_price'] = chipo['item_price'].replace({r'\\$': '', ',': ''}, regex=True).astype(float)\n",
    "print(f\"Item price type before change: {chipo['item_price'].dtype}\")\n",
    "chipo['item_price'] = chipo['item_price'].apply(lambda x: float(x))\n",
    "print(f\"Item price type after change: {chipo['item_price'].dtype}\")"
   ]
  },
  {
   "cell_type": "code",
   "execution_count": 55,
   "metadata": {},
   "outputs": [
    {
     "name": "stdout",
     "output_type": "stream",
     "text": [
      "Total revenue: $39237.02\n"
     ]
    }
   ],
   "source": [
    "#Step.14)\n",
    "\n",
    "chipo['revenue'] = chipo['item_price'] * chipo['quantity']\n",
    "total_revenue = chipo['revenue'].sum()\n",
    "print(f\"Total revenue: ${total_revenue:.2f}\")"
   ]
  },
  {
   "cell_type": "code",
   "execution_count": 56,
   "metadata": {},
   "outputs": [
    {
     "name": "stdout",
     "output_type": "stream",
     "text": [
      "Total number of orders: 1834\n"
     ]
    }
   ],
   "source": [
    "#Step.15)\n",
    "\n",
    "num_orders = chipo['order_id'].nunique()\n",
    "print(f\"Total number of orders: {num_orders}\")"
   ]
  },
  {
   "cell_type": "code",
   "execution_count": 57,
   "metadata": {},
   "outputs": [
    {
     "name": "stdout",
     "output_type": "stream",
     "text": [
      "Average revenue per order: $21.39\n"
     ]
    }
   ],
   "source": [
    "#Step.16)\n",
    "\n",
    "avg_revenue_per_order = total_revenue / num_orders\n",
    "print(f\"Average revenue per order: ${avg_revenue_per_order:.2f}\")"
   ]
  },
  {
   "cell_type": "code",
   "execution_count": 58,
   "metadata": {},
   "outputs": [
    {
     "name": "stdout",
     "output_type": "stream",
     "text": [
      "Number of different items sold: 50\n"
     ]
    }
   ],
   "source": [
    "#Step.17)\n",
    "\n",
    "num_different_items = chipo['item_name'].nunique()\n",
    "print(f\"Number of different items sold: {num_different_items}\")"
   ]
  },
  {
   "cell_type": "code",
   "execution_count": 59,
   "metadata": {},
   "outputs": [
    {
     "name": "stdout",
     "output_type": "stream",
     "text": [
      "Index(['Year', 'Marriages', 'Divorces', 'Population', 'Marriages_per_1000',\n",
      "       'Divorces_per_1000'],\n",
      "      dtype='object')\n"
     ]
    },
    {
     "data": {
      "image/png": "[encoded data removed]",
      "text/plain": [
       "<Figure size 720x432 with 1 Axes>"
      ]
     },
     "metadata": {
      "needs_background": "light"
     },
     "output_type": "display_data"
    }
   ],
   "source": [
    "#Answer.6)\n",
    "\n",
    "import matplotlib.pyplot as plt\n",
    "import pandas as pd\n",
    "\n",
    "df = pd.read_csv(r\"Z:\\BDAT 1004\\us-marriages-divorces-1867-2014.csv\")  \n",
    "\n",
    "df.columns = df.columns.str.strip()\n",
    "\n",
    "print(df.columns)\n",
    "\n",
    "plt.figure(figsize=(10,6))\n",
    "\n",
    "plt.plot(df['Year'], df['Marriages_per_1000'], label='Marriages per 1000', color='grey', marker='o')\n",
    "\n",
    "plt.plot(df['Year'], df['Divorces_per_1000'], label='Divorces per 1000', color='Black', marker='x')\n",
    "\n",
    "plt.xlabel('Year')\n",
    "plt.ylabel('Rate per 1000 people')\n",
    "\n",
    "plt.title('Marriages and Divorces per 1000 People in the U.S. (1867-2014)')\n",
    "\n",
    "plt.legend()\n",
    "\n",
    "plt.grid(True)\n",
    "plt.show()"
   ]
  },
  {
   "cell_type": "code",
   "execution_count": 60,
   "metadata": {},
   "outputs": [
    {
     "data": {
      "image/png": "[encoded data removed]",
      "text/plain": [
       "<Figure size 720x432 with 1 Axes>"
      ]
     },
     "metadata": {
      "needs_background": "light"
     },
     "output_type": "display_data"
    }
   ],
   "source": [
    "#Ans.7)\n",
    "\n",
    "import matplotlib.pyplot as plt\n",
    "import pandas as pd\n",
    "\n",
    "df = pd.read_csv(r\"Z:\\BDAT 1004\\us-marriages-divorces-1867-2014.csv\")  \n",
    "df.columns = df.columns.str.strip()\n",
    "\n",
    "years = [1900, 1950, 2000]\n",
    "filtered_data = df[df['Year'].isin(years)]\n",
    "\n",
    "fig, ax = plt.subplots(figsize=(10,6))\n",
    "\n",
    "bar_width = 0.35  \n",
    "index = range(len(years))  \n",
    "\n",
    "ax.bar(index, filtered_data['Marriages_per_1000'], bar_width, label='Marriages per 1000', color='orange')\n",
    "\n",
    "ax.bar([p + bar_width for p in index], filtered_data['Divorces_per_1000'], bar_width, label='Divorces per 1000', color='black')\n",
    "\n",
    "ax.set_xlabel('Year')\n",
    "ax.set_ylabel('Rate per 1000 people')\n",
    "\n",
    "ax.set_title('Comparison of Marriages and Divorces per Capita (1900, 1950, 2000)')\n",
    "\n",
    "ax.set_xticks([p + bar_width / 2 for p in index])\n",
    "ax.set_xticklabels(years)\n",
    "\n",
    "ax.legend()\n",
    "\n",
    "plt.show()"
   ]
  },
  {
   "cell_type": "code",
   "execution_count": 61,
   "metadata": {},
   "outputs": [
    {
     "data": {
      "image/png": "[encoded data removed]",
      "text/plain": [
       "<Figure size 720x432 with 1 Axes>"
      ]
     },
     "metadata": {
      "needs_background": "light"
     },
     "output_type": "display_data"
    }
   ],
   "source": [
    "#Ans.8)\n",
    "\n",
    "import pandas as pd\n",
    "import matplotlib.pyplot as plt\n",
    "\n",
    "df = pd.read_csv(r\"Z:\\BDAT 1004\\actor_kill_counts.csv\")\n",
    "\n",
    "df.columns = df.columns.str.strip()  \n",
    "\n",
    "df = df.sort_values(by='Count', ascending=True)\n",
    "\n",
    "plt.figure(figsize=(10, 6))\n",
    "plt.barh(df['Actor'], df['Count'], color='silver')\n",
    "\n",
    "for index, value in enumerate(df['Count']):\n",
    "    plt.text(value, index, str(value))  \n",
    "\n",
    "plt.xlabel('Kill Count')\n",
    "plt.ylabel('Actor')\n",
    "plt.title('Deadliest Actors in Hollywood (By Kill Count)')\n",
    "\n",
    "\n",
    "plt.show()"
   ]
  },
  {
   "cell_type": "code",
   "execution_count": 62,
   "metadata": {},
   "outputs": [
    {
     "data": {
      "image/png": "[encoded data removed]",
      "text/plain": [
       "<Figure size 576x576 with 1 Axes>"
      ]
     },
     "metadata": {},
     "output_type": "display_data"
    }
   ],
   "source": [
    "#Ans.9)\n",
    "\n",
    "import pandas as pd\n",
    "import matplotlib.pyplot as plt\n",
    "\n",
    "df = pd.read_csv(r\"Z:\\BDAT 1004\\roman-emperor-reigns.csv\")\n",
    "\n",
    "cause_of_death_counts = df['Cause_of_Death'].value_counts()\n",
    "\n",
    "labels = cause_of_death_counts.index\n",
    "sizes = cause_of_death_counts.values\n",
    "\n",
    "plt.figure(figsize=(8, 8))  \n",
    "\n",
    "plt.pie(\n",
    "    sizes, \n",
    "    labels=labels, \n",
    "    autopct='%1.1f%%', \n",
    "    startangle=90, \n",
    "    colors=['teal', 'silver', 'beige', 'cyan'] \n",
    ")\n",
    "\n",
    "plt.title('Fraction of Roman Emperors by Cause of Death')\n",
    "\n",
    "plt.show()"
   ]
  },
  {
   "cell_type": "code",
   "execution_count": 63,
   "metadata": {},
   "outputs": [
    {
     "name": "stdout",
     "output_type": "stream",
     "text": [
      "Index(['Year', 'Total Arcade Revenue (billions)',\n",
      "       'Computer Science Doctorates Awarded (US)'],\n",
      "      dtype='object')\n"
     ]
    },
    {
     "data": {
      "image/png": "[encoded data removed]",
      "text/plain": [
       "<Figure size 720x432 with 2 Axes>"
      ]
     },
     "metadata": {
      "needs_background": "light"
     },
     "output_type": "display_data"
    }
   ],
   "source": [
    "#Ans.10)\n",
    "\n",
    "\n",
    "import pandas as pd\n",
    "import matplotlib.pyplot as plt\n",
    "\n",
    "df = pd.read_csv(r\"Z:\\BDAT 1004\\arcade-revenue-vs-cs-doctorates.csv\")\n",
    "\n",
    "df.columns = df.columns.str.strip()\n",
    "\n",
    "print(df.columns) \n",
    "\n",
    "plt.figure(figsize=(10, 6))\n",
    "\n",
    "scatter = plt.scatter(\n",
    "    df['Total Arcade Revenue (billions)'], \n",
    "    df['Computer Science Doctorates Awarded (US)'], \n",
    "    c=df['Year'],  \n",
    "    cmap='plasma',  \n",
    "    edgecolor='k',  \n",
    "    s=100  \n",
    ")\n",
    "\n",
    "colorbar = plt.colorbar(scatter)\n",
    "colorbar.set_label('Year')\n",
    "\n",
    "plt.xlabel('Total Arcade Revenue (billions)')\n",
    "plt.ylabel('Computer Science Doctorates Awarded (US)')\n",
    "plt.title('Arcade Revenue vs. CS Doctorates Awarded (2000-2009)')\n",
    "\n",
    "plt.grid(True)\n",
    "plt.show()"
   ]
  },
  {
   "cell_type": "code",
   "execution_count": null,
   "metadata": {},
   "outputs": [],
   "source": []
  }
 ],
 "metadata": {
  "kernelspec": {
   "display_name": "Python 3",
   "language": "python",
   "name": "python3"
  },
  "language_info": {
   "codemirror_mode": {
    "name": "ipython",
    "version": 3
   },
   "file_extension": ".py",
   "mimetype": "text/x-python",
   "name": "python",
   "nbconvert_exporter": "python",
   "pygments_lexer": "ipython3",
   "version": "3.7.6"
  }
 },
 "nbformat": 4,
 "nbformat_minor": 4
}
